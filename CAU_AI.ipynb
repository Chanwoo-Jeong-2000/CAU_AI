{
 "cells": [
  {
   "cell_type": "markdown",
   "id": "5edfac11",
   "metadata": {},
   "source": [
    "# 중앙대학교 AI학과 예비중앙인 전공체험 프로그램 "
   ]
  },
  {
   "cell_type": "markdown",
   "id": "9044c4a8",
   "metadata": {},
   "source": [
    "## 예비중앙인 여러분 AI학과가 여러분을 환영합니다"
   ]
  },
  {
   "cell_type": "markdown",
   "id": "c5e14924",
   "metadata": {},
   "source": [
    "## AI학과 전공체험 프로그램은 다음과 같이 이루어졌습니다 "
   ]
  },
  {
   "cell_type": "markdown",
   "id": "e71e40b0",
   "metadata": {},
   "source": [
    "# 1 중앙대학교 AI학과 소개 \n",
    "[중앙대학교 AI학과 홈페이지](https://ai.cau.ac.kr/main.php)"
   ]
  },
  {
   "cell_type": "markdown",
   "id": "4719337a",
   "metadata": {},
   "source": [
    "# 2 인공지능 프로그래밍 체험 "
   ]
  },
  {
   "cell_type": "markdown",
   "id": "5eae8205",
   "metadata": {},
   "source": [
    "- 파이썬 기본 문법 \n",
    "- 숫자 인식기 만들기 \n",
    "- 얼굴인식과 피쳐엔지니어링\n",
    "- 화질복원기술"
   ]
  },
  {
   "cell_type": "markdown",
   "id": "8fa1877d",
   "metadata": {},
   "source": [
    "# 3 QnA "
   ]
  },
  {
   "cell_type": "markdown",
   "id": "7e765397",
   "metadata": {},
   "source": [
    "___\n",
    "이제 시작하겠습니다 "
   ]
  },
  {
   "cell_type": "markdown",
   "id": "66eef418",
   "metadata": {},
   "source": [
    "### A 파이썬의 기초 "
   ]
  },
  {
   "cell_type": "markdown",
   "id": "e1b07d50",
   "metadata": {},
   "source": [
    "변수와 함수"
   ]
  },
  {
   "cell_type": "code",
   "execution_count": null,
   "id": "50079ff6",
   "metadata": {},
   "outputs": [],
   "source": [
    "x = 5\n",
    "y = \"John\""
   ]
  },
  {
   "cell_type": "code",
   "execution_count": null,
   "id": "69939d36",
   "metadata": {},
   "outputs": [],
   "source": [
    "print(x)\n",
    "print(y)"
   ]
  },
  {
   "cell_type": "code",
   "execution_count": null,
   "id": "e3868fd7",
   "metadata": {},
   "outputs": [],
   "source": [
    "x = x+2\n",
    "print(x)"
   ]
  },
  {
   "cell_type": "markdown",
   "id": "3d368b89",
   "metadata": {},
   "source": [
    "함수"
   ]
  },
  {
   "cell_type": "code",
   "execution_count": null,
   "id": "34ec05aa",
   "metadata": {},
   "outputs": [],
   "source": [
    "def my_function():\n",
    "    print(\"Hello from a function\")"
   ]
  },
  {
   "cell_type": "code",
   "execution_count": null,
   "id": "5cc2fbc1",
   "metadata": {},
   "outputs": [],
   "source": [
    "my_function()"
   ]
  },
  {
   "cell_type": "markdown",
   "id": "a3574ecb",
   "metadata": {},
   "source": [
    "함수에 argument를 추가하기"
   ]
  },
  {
   "cell_type": "code",
   "execution_count": null,
   "id": "8d77076a",
   "metadata": {},
   "outputs": [],
   "source": [
    "def my_function(fname):\n",
    "    print(fname + \" AI학과\")"
   ]
  },
  {
   "cell_type": "code",
   "execution_count": null,
   "id": "2f09f290",
   "metadata": {},
   "outputs": [],
   "source": [
    "my_function('중앙대')"
   ]
  },
  {
   "cell_type": "code",
   "execution_count": null,
   "id": "05ff1dce",
   "metadata": {},
   "outputs": [],
   "source": [
    "print('이름을 입력하세요:')\n",
    "my_name = input()\n",
    "def welcome_function(my_name):\n",
    "    print('환영합니다 ' + my_name)"
   ]
  },
  {
   "cell_type": "markdown",
   "id": "15a367e7",
   "metadata": {},
   "source": [
    "함수에 두개 이상의 argument 사용하기 "
   ]
  },
  {
   "cell_type": "code",
   "execution_count": null,
   "id": "121154c6",
   "metadata": {},
   "outputs": [],
   "source": [
    "def my_add(x,y): \n",
    "    return x+y"
   ]
  },
  {
   "cell_type": "code",
   "execution_count": null,
   "id": "677aedea",
   "metadata": {},
   "outputs": [],
   "source": [
    "my_add(2,3)"
   ]
  },
  {
   "cell_type": "markdown",
   "id": "5cce5a87",
   "metadata": {},
   "source": [
    "1에서 10까지의 합을 구하시오? "
   ]
  },
  {
   "cell_type": "code",
   "execution_count": null,
   "id": "47ec1cb0",
   "metadata": {},
   "outputs": [],
   "source": [
    "for x in range(11) :\n",
    "    print(x)"
   ]
  },
  {
   "cell_type": "markdown",
   "id": "8d771af3",
   "metadata": {},
   "source": [
    "직접 구현해보기 "
   ]
  },
  {
   "cell_type": "code",
   "execution_count": null,
   "id": "0ce0bb57",
   "metadata": {},
   "outputs": [],
   "source": []
  },
  {
   "cell_type": "markdown",
   "id": "f2bd31c8",
   "metadata": {},
   "source": [
    "### B 인공지능 프로그래밍"
   ]
  },
  {
   "cell_type": "markdown",
   "id": "ddd830ba",
   "metadata": {},
   "source": [
    "#### MNIST dataset"
   ]
  },
  {
   "cell_type": "markdown",
   "id": "ac764c69",
   "metadata": {},
   "source": [
    "![alt text](mnist-3.0.1.png \"MNIST\")"
   ]
  },
  {
   "cell_type": "markdown",
   "id": "251c8314",
   "metadata": {},
   "source": [
    "컴퓨터는 숫자를 어떻게 인식할까? "
   ]
  },
  {
   "cell_type": "markdown",
   "id": "368b52d6",
   "metadata": {},
   "source": [
    "아래와 같이 픽셀값의 밝기를 32x32 의 행렬에 넣습니다 "
   ]
  },
  {
   "cell_type": "markdown",
   "id": "e28b3298",
   "metadata": {},
   "source": [
    "![alt text](number_pixel.png \"MNIST\")"
   ]
  },
  {
   "cell_type": "markdown",
   "id": "4ced1443",
   "metadata": {},
   "source": [
    "그런데 알고리즘이 위 숫자를 인식할까요? (우리는 읽을 수 있지만....)"
   ]
  },
  {
   "cell_type": "markdown",
   "id": "c650837a",
   "metadata": {},
   "source": [
    "### 이제부터 AI알고리즘을 만들어서 위의 이미지 파일을 컴퓨터가 직접 인식할 수 있도록 만들어봅시다"
   ]
  },
  {
   "cell_type": "code",
   "execution_count": null,
   "id": "6e4eeeed",
   "metadata": {},
   "outputs": [],
   "source": [
    "import matplotlib.pyplot as plt\n",
    "\n",
    "# Import datasets, classifiers and performance metrics\n",
    "from sklearn import datasets, metrics, svm\n",
    "from sklearn.model_selection import train_test_split"
   ]
  },
  {
   "cell_type": "markdown",
   "id": "fee9c552",
   "metadata": {},
   "source": [
    "사용하게 될 숫자 파일 예시 "
   ]
  },
  {
   "cell_type": "code",
   "execution_count": null,
   "id": "5d4a5d95",
   "metadata": {},
   "outputs": [],
   "source": [
    "digits = datasets.load_digits()\n",
    "\n",
    "_, axes = plt.subplots(nrows=1, ncols=4, figsize=(10, 3))\n",
    "for ax, image, label in zip(axes, digits.images, digits.target):\n",
    "    ax.set_axis_off()\n",
    "    ax.imshow(image, cmap=plt.cm.gray_r, interpolation=\"nearest\")\n",
    "    ax.set_title(\"Training: %i\" % label)"
   ]
  },
  {
   "cell_type": "markdown",
   "id": "beb335ad",
   "metadata": {},
   "source": [
    "### 인공지능 분류기 "
   ]
  },
  {
   "cell_type": "markdown",
   "id": "46cb1513",
   "metadata": {},
   "source": [
    "위의 숫자는 8x8의 행렬형태로 돼 있습니다. 일반적으로 머신러닝 알고리즘은 각 샘플이 1차원 벡터값을 갖고 있어야 됩니다. 어떻게 1차원으로 만들 수 있을까요? "
   ]
  },
  {
   "cell_type": "code",
   "execution_count": null,
   "id": "7e04a29e",
   "metadata": {},
   "outputs": [],
   "source": [
    "# flatten the images\n",
    "n_samples = len(digits.images)\n",
    "data = digits.images.reshape((n_samples, -1))"
   ]
  },
  {
   "cell_type": "code",
   "execution_count": null,
   "id": "bc50cdb1",
   "metadata": {},
   "outputs": [],
   "source": [
    "n_samples"
   ]
  },
  {
   "cell_type": "code",
   "execution_count": null,
   "id": "2cb1f384",
   "metadata": {},
   "outputs": [],
   "source": [
    "data"
   ]
  },
  {
   "cell_type": "code",
   "execution_count": null,
   "id": "5f05c7c5",
   "metadata": {},
   "outputs": [],
   "source": [
    "data.shape"
   ]
  },
  {
   "cell_type": "markdown",
   "id": "c4c48b7f",
   "metadata": {},
   "source": [
    "Training data와 Test data (개념 설명)   \n",
    "시험공부와 기말시험 "
   ]
  },
  {
   "cell_type": "code",
   "execution_count": null,
   "id": "59c42737",
   "metadata": {},
   "outputs": [],
   "source": [
    "# Split data into 50% train and 50% test subsets\n",
    "X_train, X_test, y_train, y_test = train_test_split(\n",
    "    data, digits.target, test_size=0.5, shuffle=False\n",
    ")"
   ]
  },
  {
   "cell_type": "code",
   "execution_count": null,
   "id": "f3912687",
   "metadata": {},
   "outputs": [],
   "source": [
    "X_train.shape"
   ]
  },
  {
   "cell_type": "code",
   "execution_count": null,
   "id": "2b87bb0e",
   "metadata": {},
   "outputs": [],
   "source": [
    "X_test.shape"
   ]
  },
  {
   "cell_type": "code",
   "execution_count": null,
   "id": "aeab7bdf",
   "metadata": {},
   "outputs": [],
   "source": [
    "y_train"
   ]
  },
  {
   "cell_type": "markdown",
   "id": "679ac415",
   "metadata": {},
   "source": [
    "머신러닝 분류기를 활용해보기(서포트벡터머신)"
   ]
  },
  {
   "cell_type": "code",
   "execution_count": null,
   "id": "efa37fd9",
   "metadata": {},
   "outputs": [],
   "source": [
    "clf = svm.SVC(gamma=0.001)"
   ]
  },
  {
   "cell_type": "markdown",
   "id": "70e9787a",
   "metadata": {},
   "source": [
    "머신러닝 훈련하기 (훈련함수 호출)"
   ]
  },
  {
   "cell_type": "code",
   "execution_count": null,
   "id": "fb7c045c",
   "metadata": {},
   "outputs": [],
   "source": [
    "# Learn the digits on the train subset\n",
    "clf.fit(X_train, y_train)"
   ]
  },
  {
   "cell_type": "code",
   "execution_count": null,
   "id": "d5907ef3",
   "metadata": {},
   "outputs": [],
   "source": [
    "clf.predict(X_train)"
   ]
  },
  {
   "cell_type": "code",
   "execution_count": null,
   "id": "9add296b",
   "metadata": {},
   "outputs": [],
   "source": [
    "y_train"
   ]
  },
  {
   "cell_type": "code",
   "execution_count": null,
   "id": "b796c0b4",
   "metadata": {},
   "outputs": [],
   "source": [
    "y_train_predicted = clf.predict(X_train)"
   ]
  },
  {
   "cell_type": "markdown",
   "id": "6f7c7e47",
   "metadata": {},
   "source": [
    "정확도를 시각화해보자 (confusion matrix 활용)"
   ]
  },
  {
   "cell_type": "code",
   "execution_count": null,
   "id": "25c51e95",
   "metadata": {},
   "outputs": [],
   "source": [
    "disp = metrics.ConfusionMatrixDisplay.from_predictions(y_train, y_train_predicted)\n",
    "disp.figure_.suptitle(\"Confusion Matrix\")\n",
    "print(f\"Confusion matrix:\\n{disp.confusion_matrix}\")\n",
    "\n",
    "plt.show()"
   ]
  },
  {
   "cell_type": "markdown",
   "id": "eb310db7",
   "metadata": {},
   "source": [
    "실제 데이터와 비교해보자"
   ]
  },
  {
   "cell_type": "code",
   "execution_count": null,
   "id": "2632262e",
   "metadata": {},
   "outputs": [],
   "source": [
    "_, axes = plt.subplots(nrows=1, ncols=4, figsize=(10, 3))\n",
    "for ax, image, prediction in zip(axes, X_train, y_train_predicted):\n",
    "    ax.set_axis_off()\n",
    "    image = image.reshape(8, 8)\n",
    "    ax.imshow(image, cmap=plt.cm.gray_r, interpolation=\"nearest\")\n",
    "    ax.set_title(f\"Prediction: {prediction}\")"
   ]
  },
  {
   "cell_type": "markdown",
   "id": "89979d3b",
   "metadata": {},
   "source": [
    "### 정말 숫자 인식을 잘하고 있습니다 (training set 기준)"
   ]
  },
  {
   "cell_type": "markdown",
   "id": "86a8c457",
   "metadata": {},
   "source": [
    "여러분은 완벽한 학습을 하였습니다. 이제 기말 시험으로 성능을 평가해봅시다 (실습)"
   ]
  },
  {
   "cell_type": "code",
   "execution_count": null,
   "id": "40c9c4ac",
   "metadata": {},
   "outputs": [],
   "source": []
  },
  {
   "cell_type": "markdown",
   "id": "5759f3a6",
   "metadata": {},
   "source": [
    "### 얼굴인식 프로그래밍과 피쳐엔지니어링 "
   ]
  },
  {
   "cell_type": "code",
   "execution_count": null,
   "id": "98e8c1d6",
   "metadata": {},
   "outputs": [],
   "source": [
    "from time import time\n",
    "\n",
    "import matplotlib.pyplot as plt\n",
    "from scipy.stats import loguniform\n",
    "\n",
    "from sklearn.datasets import fetch_lfw_people\n",
    "from sklearn.decomposition import PCA\n",
    "from sklearn.metrics import ConfusionMatrixDisplay, classification_report\n",
    "from sklearn.model_selection import RandomizedSearchCV, train_test_split\n",
    "from sklearn.preprocessing import StandardScaler\n",
    "from sklearn.svm import SVC"
   ]
  },
  {
   "cell_type": "code",
   "execution_count": null,
   "id": "7f7b2007",
   "metadata": {},
   "outputs": [],
   "source": [
    "lfw_people = fetch_lfw_people(min_faces_per_person=70, resize=0.4)\n",
    "\n",
    "# introspect the images arrays to find the shapes (for plotting)\n",
    "n_samples, h, w = lfw_people.images.shape\n",
    "\n",
    "# for machine learning we use the 2 data directly (as relative pixel\n",
    "# positions info is ignored by this model)\n",
    "X = lfw_people.data\n",
    "n_features = X.shape[1]\n",
    "\n",
    "# the label to predict is the id of the person\n",
    "y = lfw_people.target\n",
    "target_names = lfw_people.target_names\n",
    "n_classes = target_names.shape[0]\n",
    "\n",
    "print(\"Total dataset size:\")\n",
    "print(\"n_samples: %d\" % n_samples)\n",
    "print(\"n_features: %d\" % n_features)\n",
    "print(\"n_classes: %d\" % n_classes)"
   ]
  },
  {
   "cell_type": "markdown",
   "id": "31ea427e",
   "metadata": {},
   "source": [
    "총 1288의 샘플과, 7종류의 얼굴, 1850 피쳐값을 갖고 있다고 합니다"
   ]
  },
  {
   "cell_type": "code",
   "execution_count": null,
   "id": "7f60809f",
   "metadata": {},
   "outputs": [],
   "source": [
    "target_names "
   ]
  },
  {
   "cell_type": "code",
   "execution_count": null,
   "id": "60c19634",
   "metadata": {},
   "outputs": [],
   "source": [
    "X.shape"
   ]
  },
  {
   "cell_type": "code",
   "execution_count": null,
   "id": "3b96988d",
   "metadata": {},
   "outputs": [],
   "source": [
    "X[0]"
   ]
  },
  {
   "cell_type": "markdown",
   "id": "3c691ef3",
   "metadata": {},
   "source": [
    "X[0] 값을 어떻게 시각화 할 수 있을까? (행렬로 다시 바꾸어서)"
   ]
  },
  {
   "cell_type": "code",
   "execution_count": null,
   "id": "b1bb9c95",
   "metadata": {},
   "outputs": [],
   "source": [
    "print(h) \n",
    "print(w)"
   ]
  },
  {
   "cell_type": "code",
   "execution_count": null,
   "id": "38daaa38",
   "metadata": {},
   "outputs": [],
   "source": [
    "X[0].reshape((h, w))"
   ]
  },
  {
   "cell_type": "code",
   "execution_count": null,
   "id": "85c0d747",
   "metadata": {},
   "outputs": [],
   "source": [
    "plt.imshow(X[2].reshape((h,w)))"
   ]
  },
  {
   "cell_type": "markdown",
   "id": "7374dd90",
   "metadata": {},
   "source": [
    "분류기를 활용하여 얼굴인식기를 만들어보자"
   ]
  },
  {
   "cell_type": "markdown",
   "id": "7002cc15",
   "metadata": {},
   "source": [
    "먼저 training data/test data를 분리한다"
   ]
  },
  {
   "cell_type": "code",
   "execution_count": null,
   "id": "1b9969fb",
   "metadata": {},
   "outputs": [],
   "source": [
    "X_train, X_test, y_train, y_test = train_test_split(\n",
    "    X, y, test_size=0.25, random_state=42\n",
    ")\n",
    "\n",
    "scaler = StandardScaler()\n",
    "X_train = scaler.fit_transform(X_train)\n",
    "X_test = scaler.transform(X_test)"
   ]
  },
  {
   "cell_type": "markdown",
   "id": "84e22f3f",
   "metadata": {},
   "source": [
    "다음으로 1850차원을 150으로 줄이는 차원 축소 기술을 활용, 피쳐엔지니어링을 한다"
   ]
  },
  {
   "cell_type": "code",
   "execution_count": null,
   "id": "45efa9fe",
   "metadata": {},
   "outputs": [],
   "source": [
    "n_components = 150\n",
    "\n",
    "print(\n",
    "    \"Extracting the top %d eigenfaces from %d faces\" % (n_components, X_train.shape[0])\n",
    ")\n",
    "t0 = time()\n",
    "pca = PCA(n_components=n_components, svd_solver=\"randomized\", whiten=True).fit(X_train)\n",
    "print(\"done in %0.3fs\" % (time() - t0))\n",
    "\n",
    "eigenfaces = pca.components_.reshape((n_components, h, w))\n",
    "\n",
    "print(\"Projecting the input data on the eigenfaces orthonormal basis\")\n",
    "t0 = time()\n",
    "X_train_pca = pca.transform(X_train)\n",
    "X_test_pca = pca.transform(X_test)\n",
    "print(\"done in %0.3fs\" % (time() - t0))"
   ]
  },
  {
   "cell_type": "markdown",
   "id": "a4b4235a",
   "metadata": {},
   "source": [
    "피쳐값들을 이제 SVM의 입력값으로 넣어 모델을 훈련한다"
   ]
  },
  {
   "cell_type": "code",
   "execution_count": null,
   "id": "1b4340f0",
   "metadata": {},
   "outputs": [],
   "source": [
    "print(\"Fitting the classifier to the training set\")\n",
    "t0 = time()\n",
    "param_grid = {\n",
    "    \"C\": loguniform(1e3, 1e5),\n",
    "    \"gamma\": loguniform(1e-4, 1e-1),\n",
    "}\n",
    "clf = RandomizedSearchCV(\n",
    "    SVC(kernel=\"rbf\", class_weight=\"balanced\"), param_grid, n_iter=10\n",
    ")\n",
    "clf = clf.fit(X_train_pca, y_train)\n",
    "print(\"done in %0.3fs\" % (time() - t0))\n",
    "print(\"Best estimator found by grid search:\")\n",
    "print(clf.best_estimator_)"
   ]
  },
  {
   "cell_type": "markdown",
   "id": "27ad9418",
   "metadata": {},
   "source": [
    "모델의 성능을 직접 활용해보자. (당연히 test 데이터를 활용) "
   ]
  },
  {
   "cell_type": "code",
   "execution_count": null,
   "id": "4f0710d4",
   "metadata": {},
   "outputs": [],
   "source": [
    "print(\"Predicting people's names on the test set\")\n",
    "t0 = time()\n",
    "y_pred = clf.predict(X_test_pca)\n",
    "print(\"done in %0.3fs\" % (time() - t0))\n",
    "\n",
    "print(classification_report(y_test, y_pred, target_names=target_names))\n",
    "ConfusionMatrixDisplay.from_estimator(\n",
    "    clf, X_test_pca, y_test, display_labels=target_names, xticks_rotation=\"vertical\"\n",
    ")\n",
    "plt.tight_layout()\n",
    "plt.show()"
   ]
  },
  {
   "cell_type": "markdown",
   "id": "3837f790",
   "metadata": {},
   "source": [
    "실제값과 예측값 그리고 이미지들을 직접 비교해보자"
   ]
  },
  {
   "cell_type": "code",
   "execution_count": null,
   "id": "886c2d1a",
   "metadata": {},
   "outputs": [],
   "source": [
    "def plot_gallery(images, titles, h, w, n_row=3, n_col=4):\n",
    "    \"\"\"Helper function to plot a gallery of portraits\"\"\"\n",
    "    plt.figure(figsize=(1.8 * n_col, 2.4 * n_row))\n",
    "    plt.subplots_adjust(bottom=0, left=0.01, right=0.99, top=0.90, hspace=0.35)\n",
    "    for i in range(n_row * n_col):\n",
    "        plt.subplot(n_row, n_col, i + 1)\n",
    "        plt.imshow(images[i].reshape((h, w)), cmap=plt.cm.gray)\n",
    "        plt.title(titles[i], size=12)\n",
    "        plt.xticks(())\n",
    "        plt.yticks(())"
   ]
  },
  {
   "cell_type": "code",
   "execution_count": null,
   "id": "359bb1ad",
   "metadata": {},
   "outputs": [],
   "source": [
    "def title(y_pred, y_test, target_names, i):\n",
    "    pred_name = target_names[y_pred[i]].rsplit(\" \", 1)[-1]\n",
    "    true_name = target_names[y_test[i]].rsplit(\" \", 1)[-1]\n",
    "    return \"predicted: %s\\ntrue:      %s\" % (pred_name, true_name)\n",
    "\n",
    "\n",
    "prediction_titles = [\n",
    "    title(y_pred, y_test, target_names, i) for i in range(y_pred.shape[0])\n",
    "]\n",
    "\n",
    "plot_gallery(X_test, prediction_titles, h, w)"
   ]
  },
  {
   "cell_type": "markdown",
   "id": "e6a68a6e",
   "metadata": {},
   "source": [
    "우리가 활용한 피쳐값들이 어떤 것이였는지 궁금할 것이다. (직접 눈으로 확인해보자)"
   ]
  },
  {
   "cell_type": "code",
   "execution_count": null,
   "id": "b8426214",
   "metadata": {},
   "outputs": [],
   "source": [
    "eigenface_titles = [\"eigenface %d\" % i for i in range(eigenfaces.shape[0])]\n",
    "plot_gallery(eigenfaces, eigenface_titles, h, w)\n",
    "\n",
    "plt.show()"
   ]
  },
  {
   "cell_type": "markdown",
   "id": "ca1bc3c0",
   "metadata": {},
   "source": [
    "즉 AI알고리즘은 위와 같은 이미와 비교하여 7명의 사람들을 분류하는 것이다. "
   ]
  },
  {
   "cell_type": "markdown",
   "id": "dfdd062a",
   "metadata": {},
   "source": [
    "### AI알고리즘을 이용한 화질복원 (노이즈 제거)"
   ]
  },
  {
   "cell_type": "markdown",
   "id": "b6cd40b8",
   "metadata": {},
   "source": [
    "PCA 기술을 이용하여 화질을 복원해보자"
   ]
  },
  {
   "cell_type": "code",
   "execution_count": null,
   "id": "5233c6e6",
   "metadata": {},
   "outputs": [],
   "source": [
    "import numpy as np\n",
    "\n",
    "from sklearn.datasets import fetch_openml\n",
    "from sklearn.model_selection import train_test_split\n",
    "from sklearn.preprocessing import MinMaxScaler\n",
    "\n",
    "X, y = fetch_openml(data_id=41082, as_frame=False, return_X_y=True)\n",
    "X = MinMaxScaler().fit_transform(X)"
   ]
  },
  {
   "cell_type": "markdown",
   "id": "cf2aec7a",
   "metadata": {},
   "source": [
    "train/test 분리와 각 데이터셋에 노이즈 입히기 (추후 확인)"
   ]
  },
  {
   "cell_type": "code",
   "execution_count": null,
   "id": "96378230",
   "metadata": {},
   "outputs": [],
   "source": [
    "X_train, X_test, y_train, y_test = train_test_split(\n",
    "    X, y, stratify=y, random_state=0, train_size=1_000, test_size=100\n",
    ")\n",
    "\n",
    "rng = np.random.RandomState(0)\n",
    "noise = rng.normal(scale=0.25, size=X_test.shape)\n",
    "X_test_noisy = X_test + noise\n",
    "\n",
    "noise = rng.normal(scale=0.25, size=X_train.shape)\n",
    "X_train_noisy = X_train + noise"
   ]
  },
  {
   "cell_type": "code",
   "execution_count": null,
   "id": "7c666b3f",
   "metadata": {},
   "outputs": [],
   "source": [
    "import matplotlib.pyplot as plt\n",
    "\n",
    "\n",
    "def plot_digits(X, title):\n",
    "    \"\"\"Small helper function to plot 100 digits.\"\"\"\n",
    "    fig, axs = plt.subplots(nrows=10, ncols=10, figsize=(8, 8))\n",
    "    for img, ax in zip(X, axs.ravel()):\n",
    "        ax.imshow(img.reshape((16, 16)), cmap=\"Greys\")\n",
    "        ax.axis(\"off\")\n",
    "    fig.suptitle(title, fontsize=24)"
   ]
  },
  {
   "cell_type": "code",
   "execution_count": null,
   "id": "5dea808e",
   "metadata": {},
   "outputs": [],
   "source": [
    "plot_digits(X_test, \"Uncorrupted test images\")\n",
    "plot_digits(\n",
    "    X_test_noisy, f\"Noisy test images\\nMSE: {np.mean((X_test - X_test_noisy) ** 2):.2f}\"\n",
    ")"
   ]
  },
  {
   "cell_type": "markdown",
   "id": "2d25567c",
   "metadata": {},
   "source": [
    "본 실습에서는 아래와 같은 노이즈가 입혀진 데이터에서 노이즈를 제거하여 위의 원래 데이터로 복원하는 기술을 배운다"
   ]
  },
  {
   "cell_type": "code",
   "execution_count": null,
   "id": "8bf5ec5c",
   "metadata": {},
   "outputs": [],
   "source": [
    "from sklearn.decomposition import PCA, KernelPCA\n",
    "\n",
    "pca = PCA(n_components=32, random_state=42)\n",
    "kernel_pca = KernelPCA(\n",
    "    n_components=400,\n",
    "    kernel=\"rbf\",\n",
    "    gamma=1e-3,\n",
    "    fit_inverse_transform=True,\n",
    "    alpha=5e-3,\n",
    "    random_state=42,\n",
    ")\n",
    "\n",
    "pca.fit(X_train_noisy)\n",
    "_ = kernel_pca.fit(X_train_noisy)"
   ]
  },
  {
   "cell_type": "code",
   "execution_count": null,
   "id": "749d6ebb",
   "metadata": {},
   "outputs": [],
   "source": [
    "X_reconstructed_kernel_pca = kernel_pca.inverse_transform(\n",
    "    kernel_pca.transform(X_test_noisy)\n",
    ")\n",
    "X_reconstructed_pca = pca.inverse_transform(pca.transform(X_test_noisy))"
   ]
  },
  {
   "cell_type": "markdown",
   "id": "b66ca906",
   "metadata": {},
   "source": [
    "차원 축소를 하고, 축소된 차원을 다시 복원한다 (차원 축소하는 과정 중에 불필요한 노이즈가 자연스럽게 제거된다!"
   ]
  },
  {
   "cell_type": "code",
   "execution_count": null,
   "id": "a8bb287d",
   "metadata": {},
   "outputs": [],
   "source": [
    "plot_digits(X_test, \"Uncorrupted test images\")\n",
    "plot_digits(\n",
    "    X_reconstructed_pca,\n",
    "    f\"PCA reconstruction\\nMSE: {np.mean((X_test - X_reconstructed_pca) ** 2):.2f}\",\n",
    ")\n",
    "plot_digits(\n",
    "    X_reconstructed_kernel_pca,\n",
    "    (\n",
    "        \"Kernel PCA reconstruction\\n\"\n",
    "        f\"MSE: {np.mean((X_test - X_reconstructed_kernel_pca) ** 2):.2f}\"\n",
    "    ),\n",
    ")"
   ]
  },
  {
   "cell_type": "code",
   "execution_count": null,
   "id": "86576c90",
   "metadata": {},
   "outputs": [],
   "source": []
  }
 ],
 "metadata": {
  "kernelspec": {
   "display_name": "Python 3 (ipykernel)",
   "language": "python",
   "name": "python3"
  },
  "language_info": {
   "codemirror_mode": {
    "name": "ipython",
    "version": 3
   },
   "file_extension": ".py",
   "mimetype": "text/x-python",
   "name": "python",
   "nbconvert_exporter": "python",
   "pygments_lexer": "ipython3",
   "version": "3.9.13"
  }
 },
 "nbformat": 4,
 "nbformat_minor": 5
}
